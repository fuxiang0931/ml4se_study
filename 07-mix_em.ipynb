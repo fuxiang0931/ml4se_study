{
 "cells": [
  {
   "cell_type": "code",
   "execution_count": 3,
   "metadata": {
    "collapsed": false
   },
   "outputs": [
    {
     "name": "stderr",
     "output_type": "stream",
     "text": [
      "<main>:6: warning: already initialized constant K\n",
      "<main>:6: warning: previous definition of K was here\n",
      "<main>:7: warning: already initialized constant N\n",
      "<main>:7: warning: previous definition of N was here\n"
     ]
    },
    {
     "name": "stdout",
     "output_type": "stream",
     "text": [
      "initial\n"
     ]
    },
    {
     "data": {
      "image/png": "[encoded data removed]",
      "text/plain": [
       " PNG 28x28 DirectClass 16-bit 1kb"
      ]
     },
     "metadata": {},
     "output_type": "display_data"
    },
    {
     "data": {
      "image/png": "[encoded data removed]",
      "text/plain": [
       " PNG 28x28 DirectClass 16-bit 1kb"
      ]
     },
     "metadata": {},
     "output_type": "display_data"
    },
    {
     "data": {
      "image/png": "[encoded data removed]",
      "text/plain": [
       " PNG 28x28 DirectClass 16-bit 1kb"
      ]
     },
     "metadata": {},
     "output_type": "display_data"
    },
    {
     "name": "stdout",
     "output_type": "stream",
     "text": [
      "iter_num 0\n"
     ]
    },
    {
     "data": {
      "image/png": "[encoded data removed]",
      "text/plain": [
       " PNG 28x28 DirectClass 16-bit 1kb"
      ]
     },
     "metadata": {},
     "output_type": "display_data"
    },
    {
     "data": {
      "image/png": "[encoded data removed]",
      "text/plain": [
       " PNG 28x28 DirectClass 16-bit 1kb"
      ]
     },
     "metadata": {},
     "output_type": "display_data"
    },
    {
     "data": {
      "image/png": "[encoded data removed]",
      "text/plain": [
       " PNG 28x28 DirectClass 16-bit 1kb"
      ]
     },
     "metadata": {},
     "output_type": "display_data"
    },
    {
     "name": "stdout",
     "output_type": "stream",
     "text": [
      "iter_num 1\n"
     ]
    },
    {
     "data": {
      "image/png": "[encoded data removed]",
      "text/plain": [
       " PNG 28x28 DirectClass 16-bit 1kb"
      ]
     },
     "metadata": {},
     "output_type": "display_data"
    },
    {
     "data": {
      "image/png": "[encoded data removed]",
      "text/plain": [
       " PNG 28x28 DirectClass 16-bit 1kb"
      ]
     },
     "metadata": {},
     "output_type": "display_data"
    },
    {
     "data": {
      "image/png": "[encoded data removed]",
      "text/plain": [
       " PNG 28x28 DirectClass 16-bit 1kb"
      ]
     },
     "metadata": {},
     "output_type": "display_data"
    },
    {
     "name": "stdout",
     "output_type": "stream",
     "text": [
      "iter_num 2\n"
     ]
    },
    {
     "data": {
      "image/png": "[encoded data removed]",
      "text/plain": [
       " PNG 28x28 DirectClass 16-bit 989b"
      ]
     },
     "metadata": {},
     "output_type": "display_data"
    },
    {
     "data": {
      "image/png": "[encoded data removed]",
      "text/plain": [
       " PNG 28x28 DirectClass 16-bit 1kb"
      ]
     },
     "metadata": {},
     "output_type": "display_data"
    },
    {
     "data": {
      "image/png": "[encoded data removed]",
      "text/plain": [
       " PNG 28x28 DirectClass 16-bit 1kb"
      ]
     },
     "metadata": {},
     "output_type": "display_data"
    },
    {
     "name": "stdout",
     "output_type": "stream",
     "text": [
      "iter_num 3\n"
     ]
    },
    {
     "data": {
      "image/png": "[encoded data removed]",
      "text/plain": [
       " PNG 28x28 DirectClass 16-bit 970b"
      ]
     },
     "metadata": {},
     "output_type": "display_data"
    },
    {
     "data": {
      "image/png": "[encoded data removed]",
      "text/plain": [
       " PNG 28x28 DirectClass 16-bit 1kb"
      ]
     },
     "metadata": {},
     "output_type": "display_data"
    },
    {
     "data": {
      "image/png": "[encoded data removed]",
      "text/plain": [
       " PNG 28x28 DirectClass 16-bit 1kb"
      ]
     },
     "metadata": {},
     "output_type": "display_data"
    },
    {
     "name": "stdout",
     "output_type": "stream",
     "text": [
      "iter_num 4\n"
     ]
    },
    {
     "data": {
      "image/png": "[encoded data removed]",
      "text/plain": [
       " PNG 28x28 DirectClass 16-bit 929b"
      ]
     },
     "metadata": {},
     "output_type": "display_data"
    },
    {
     "data": {
      "image/png": "[encoded data removed]",
      "text/plain": [
       " PNG 28x28 DirectClass 16-bit 1019b"
      ]
     },
     "metadata": {},
     "output_type": "display_data"
    },
    {
     "data": {
      "image/png": "[encoded data removed]",
      "text/plain": [
       " PNG 28x28 DirectClass 16-bit 1kb"
      ]
     },
     "metadata": {},
     "output_type": "display_data"
    },
    {
     "name": "stdout",
     "output_type": "stream",
     "text": [
      "iter_num 5\n"
     ]
    },
    {
     "data": {
      "image/png": "[encoded data removed]",
      "text/plain": [
       " PNG 28x28 DirectClass 16-bit 930b"
      ]
     },
     "metadata": {},
     "output_type": "display_data"
    },
    {
     "data": {
      "image/png": "[encoded data removed]",
      "text/plain": [
       " PNG 28x28 DirectClass 16-bit 1008b"
      ]
     },
     "metadata": {},
     "output_type": "display_data"
    },
    {
     "data": {
      "image/png": "[encoded data removed]",
      "text/plain": [
       " PNG 28x28 DirectClass 16-bit 1kb"
      ]
     },
     "metadata": {},
     "output_type": "display_data"
    },
    {
     "name": "stdout",
     "output_type": "stream",
     "text": [
      "iter_num 6\n"
     ]
    },
    {
     "data": {
      "image/png": "[encoded data removed]",
      "text/plain": [
       " PNG 28x28 PseudoClass 246c 16-bit 928b"
      ]
     },
     "metadata": {},
     "output_type": "display_data"
    },
    {
     "data": {
      "image/png": "[encoded data removed]",
      "text/plain": [
       " PNG 28x28 DirectClass 16-bit 1001b"
      ]
     },
     "metadata": {},
     "output_type": "display_data"
    },
    {
     "data": {
      "image/png": "[encoded data removed]",
      "text/plain": [
       " PNG 28x28 DirectClass 16-bit 1kb"
      ]
     },
     "metadata": {},
     "output_type": "display_data"
    },
    {
     "name": "stdout",
     "output_type": "stream",
     "text": [
      "iter_num 7\n"
     ]
    },
    {
     "data": {
      "image/png": "[encoded data removed]",
      "text/plain": [
       " PNG 28x28 PseudoClass 236c 16-bit 923b"
      ]
     },
     "metadata": {},
     "output_type": "display_data"
    },
    {
     "data": {
      "image/png": "[encoded data removed]",
      "text/plain": [
       " PNG 28x28 DirectClass 16-bit 1009b"
      ]
     },
     "metadata": {},
     "output_type": "display_data"
    },
    {
     "data": {
      "image/png": "[encoded data removed]",
      "text/plain": [
       " PNG 28x28 DirectClass 16-bit 1kb"
      ]
     },
     "metadata": {},
     "output_type": "display_data"
    },
    {
     "name": "stdout",
     "output_type": "stream",
     "text": [
      "iter_num 8\n"
     ]
    },
    {
     "data": {
      "image/png": "[encoded data removed]",
      "text/plain": [
       " PNG 28x28 PseudoClass 219c 16-bit 925b"
      ]
     },
     "metadata": {},
     "output_type": "display_data"
    },
    {
     "data": {
      "image/png": "[encoded data removed]",
      "text/plain": [
       " PNG 28x28 DirectClass 16-bit 1015b"
      ]
     },
     "metadata": {},
     "output_type": "display_data"
    },
    {
     "data": {
      "image/png": "[encoded data removed]",
      "text/plain": [
       " PNG 28x28 DirectClass 16-bit 1kb"
      ]
     },
     "metadata": {},
     "output_type": "display_data"
    },
    {
     "name": "stdout",
     "output_type": "stream",
     "text": [
      "iter_num 9\n"
     ]
    },
    {
     "data": {
      "image/png": "[encoded data removed]",
      "text/plain": [
       " PNG 28x28 PseudoClass 213c 16-bit 921b"
      ]
     },
     "metadata": {},
     "output_type": "display_data"
    },
    {
     "data": {
      "image/png": "[encoded data removed]",
      "text/plain": [
       " PNG 28x28 DirectClass 16-bit 1004b"
      ]
     },
     "metadata": {},
     "output_type": "display_data"
    },
    {
     "data": {
      "image/png": "[encoded data removed]",
      "text/plain": [
       " PNG 28x28 DirectClass 16-bit 1kb"
      ]
     },
     "metadata": {},
     "output_type": "display_data"
    },
    {
     "name": "stdout",
     "output_type": "stream",
     "text": [
      "Master 0\n"
     ]
    },
    {
     "data": {
      "image/png": "[encoded data removed]",
      "text/plain": [
       " PNG 28x28 PseudoClass 213c 16-bit 921b"
      ]
     },
     "metadata": {},
     "output_type": "display_data"
    },
    {
     "data": {
      "image/png": "[encoded data removed]",
      "text/plain": [
       " PNG 28x28 PseudoClass 2c 8-bit 185b"
      ]
     },
     "metadata": {},
     "output_type": "display_data"
    },
    {
     "data": {
      "image/png": "[encoded data removed]",
      "text/plain": [
       " PNG 28x28 PseudoClass 2c 8-bit 187b"
      ]
     },
     "metadata": {},
     "output_type": "display_data"
    },
    {
     "data": {
      "image/png": "[encoded data removed]",
      "text/plain": [
       " PNG 28x28 PseudoClass 2c 8-bit 177b"
      ]
     },
     "metadata": {},
     "output_type": "display_data"
    },
    {
     "data": {
      "image/png": "[encoded data removed]",
      "text/plain": [
       " PNG 28x28 PseudoClass 2c 8-bit 174b"
      ]
     },
     "metadata": {},
     "output_type": "display_data"
    },
    {
     "data": {
      "image/png": "[encoded data removed]",
      "text/plain": [
       " PNG 28x28 PseudoClass 2c 8-bit 173b"
      ]
     },
     "metadata": {},
     "output_type": "display_data"
    },
    {
     "data": {
      "image/png": "[encoded data removed]",
      "text/plain": [
       " PNG 28x28 PseudoClass 2c 8-bit 182b"
      ]
     },
     "metadata": {},
     "output_type": "display_data"
    },
    {
     "name": "stdout",
     "output_type": "stream",
     "text": [
      "Master 1\n"
     ]
    },
    {
     "data": {
      "image/png": "[encoded data removed]",
      "text/plain": [
       " PNG 28x28 DirectClass 16-bit 1004b"
      ]
     },
     "metadata": {},
     "output_type": "display_data"
    },
    {
     "data": {
      "image/png": "[encoded data removed]",
      "text/plain": [
       " PNG 28x28 PseudoClass 2c 8-bit 190b"
      ]
     },
     "metadata": {},
     "output_type": "display_data"
    },
    {
     "data": {
      "image/png": "[encoded data removed]",
      "text/plain": [
       " PNG 28x28 PseudoClass 2c 8-bit 190b"
      ]
     },
     "metadata": {},
     "output_type": "display_data"
    },
    {
     "data": {
      "image/png": "[encoded data removed]",
      "text/plain": [
       " PNG 28x28 PseudoClass 2c 8-bit 185b"
      ]
     },
     "metadata": {},
     "output_type": "display_data"
    },
    {
     "data": {
      "image/png": "[encoded data removed]",
      "text/plain": [
       " PNG 28x28 PseudoClass 2c 8-bit 190b"
      ]
     },
     "metadata": {},
     "output_type": "display_data"
    },
    {
     "data": {
      "image/png": "[encoded data removed]",
      "text/plain": [
       " PNG 28x28 PseudoClass 2c 8-bit 185b"
      ]
     },
     "metadata": {},
     "output_type": "display_data"
    },
    {
     "data": {
      "image/png": "[encoded data removed]",
      "text/plain": [
       " PNG 28x28 PseudoClass 2c 8-bit 190b"
      ]
     },
     "metadata": {},
     "output_type": "display_data"
    },
    {
     "name": "stdout",
     "output_type": "stream",
     "text": [
      "Master 2\n"
     ]
    },
    {
     "data": {
      "image/png": "[encoded data removed]",
      "text/plain": [
       " PNG 28x28 DirectClass 16-bit 1kb"
      ]
     },
     "metadata": {},
     "output_type": "display_data"
    },
    {
     "data": {
      "image/png": "[encoded data removed]",
      "text/plain": [
       " PNG 28x28 PseudoClass 2c 8-bit 176b"
      ]
     },
     "metadata": {},
     "output_type": "display_data"
    },
    {
     "data": {
      "image/png": "[encoded data removed]",
      "text/plain": [
       " PNG 28x28 PseudoClass 2c 8-bit 176b"
      ]
     },
     "metadata": {},
     "output_type": "display_data"
    },
    {
     "data": {
      "image/png": "[encoded data removed]",
      "text/plain": [
       " PNG 28x28 PseudoClass 2c 8-bit 184b"
      ]
     },
     "metadata": {},
     "output_type": "display_data"
    },
    {
     "data": {
      "image/png": "[encoded data removed]",
      "text/plain": [
       " PNG 28x28 PseudoClass 2c 8-bit 180b"
      ]
     },
     "metadata": {},
     "output_type": "display_data"
    },
    {
     "data": {
      "image/png": "[encoded data removed]",
      "text/plain": [
       " PNG 28x28 PseudoClass 2c 8-bit 182b"
      ]
     },
     "metadata": {},
     "output_type": "display_data"
    },
    {
     "data": {
      "image/png": "[encoded data removed]",
      "text/plain": [
       " PNG 28x28 PseudoClass 2c 8-bit 186b"
      ]
     },
     "metadata": {},
     "output_type": "display_data"
    },
    {
     "data": {
      "text/plain": [
       "3"
      ]
     },
     "execution_count": 3,
     "metadata": {},
     "output_type": "execute_result"
    }
   ],
   "source": [
    "# 混合ベルヌーイ分布による手書き文字分類\n",
    "\n",
    "require 'csv'\n",
    "require 'numo/narray'\n",
    "require 'rmagick'\n",
    "\n",
    "K = 3  # 分類する文字数\n",
    "N = 10 # 反復回数\n",
    "\n",
    "# 分類結果の表示\n",
    "def show_figure(df, mu, cls)\n",
    "  K.times do |c|\n",
    "    rate = 1.0 / mu[c, 0..-1].max\n",
    "    image = Magick::Image.new(28, 28)\n",
    "    image.import_pixels(0, 0, 28, 28, 'I', mu[c, 0..-1].map {|v| 1 - v * rate }.to_a, Magick::FloatPixel)\n",
    "    puts \"Master #{c}\"\n",
    "    IRuby.display image\n",
    "\n",
    "    cnt = 0\n",
    "    cls.each_with_index do |v, i|\n",
    "      if v == c\n",
    "        rate = 1.0 / df[i].max\n",
    "        image = Magick::Image.new(28, 28)\n",
    "        image.import_pixels(0, 0, 28, 28, 'I', df[i].map {|d| 1 - d * rate }, Magick::FloatPixel)\n",
    "        IRuby.display image\n",
    "        cnt += 1\n",
    "      end\n",
    "      \n",
    "      break if cnt == 6\n",
    "    end\n",
    "  end\n",
    "end\n",
    "\n",
    "# ベルヌーイ分布\n",
    "def bern(x, mu)\n",
    "  r = 1.0\n",
    "  x.zip(mu).each do |x_i, mu_i|\n",
    "    if x_i == 1\n",
    "      r *= mu_i\n",
    "      next\n",
    "    end\n",
    "\n",
    "    r *= (1.0 - mu_i)\n",
    "  end\n",
    "\n",
    "  r\n",
    "end\n",
    "\n",
    "# トレーニングセットの読み込み\n",
    "df = CSV.read('sample-images.txt').map {|line| line.map(&:to_i) }\n",
    "data_num = df.size\n",
    "\n",
    "# 初期パラメータの設定\n",
    "mix = [1.0 / K] * K\n",
    "random = Random.new\n",
    "mu = (Numo::NArray[*(28 * 28 * K).times.map { rand }] * 0.5 + 0.25).reshape(K, 28 * 28)\n",
    "\n",
    "K.times do |k|\n",
    "  mu[k, 0..-1] /= mu[k, 0..-1].sum\n",
    "end\n",
    "\n",
    "puts \"initial\"\n",
    "K.times do |k|\n",
    "  rate = 1.0 / mu[k, 0..-1].max\n",
    "  image = Magick::Image.new(28, 28)\n",
    "  image.import_pixels(0, 0, 28, 28, 'I', mu[k, 0..-1].map {|v| 1 - v * rate }.to_a, Magick::FloatPixel)\n",
    "  IRuby.display image\n",
    "end\n",
    "\n",
    "resp = nil\n",
    "N.times do |iter_num|\n",
    "  puts \"iter_num #{iter_num}\"\n",
    "\n",
    "  # E Phase\n",
    "  resp = []\n",
    "  df.each_with_index do |line, index|\n",
    "    tmp = []\n",
    "    K.times do |k|\n",
    "      a = mix[k] * bern(line, mu[k, 0..-1])\n",
    "      if a == 0.0\n",
    "        tmp << 0.0\n",
    "      else\n",
    "        s = 0.0\n",
    "        K.times do |kk|\n",
    "          s += mix[kk] * bern(line, mu[kk, 0..-1])\n",
    "        end\n",
    "        tmp << a / s\n",
    "      end\n",
    "    end\n",
    "    resp << tmp\n",
    "  end\n",
    "\n",
    "  # M Phase\n",
    "  mu = Numo::DFloat.zeros(K, 28 * 28)\n",
    "  K.times do |k|\n",
    "    nk = resp.transpose[k].inject(:+)\n",
    "    mix[k] = nk / data_num\n",
    "    df.each_with_index do |line, index|\n",
    "      mu[k, 0..-1] = mu[k, 0..-1] + Numo::NArray[*line].cast_to(Numo::DFloat) * resp[index][k]\n",
    "    end\n",
    "    mu[k, 0..-1] /= nk\n",
    "\n",
    "    rate = 1.0 / mu[k, 0..-1].max\n",
    "    image = Magick::Image.new(28, 28)\n",
    "    image.import_pixels(0, 0, 28, 28, 'I', mu[k, 0..-1].map {|v| 1 - v * rate }.to_a, Magick::FloatPixel)\n",
    "    IRuby.display image\n",
    "  end\n",
    "end\n",
    "\n",
    "# トレーニングセットの文字を分類\n",
    "cls = resp.map.with_index do |line, index|\n",
    "  Numo::NArray[*line].max_index\n",
    "end\n",
    "\n",
    "# 分類結果の表示\n",
    "show_figure(df, mu, cls)\n"
   ]
  },
  {
   "cell_type": "code",
   "execution_count": null,
   "metadata": {
    "collapsed": true
   },
   "outputs": [],
   "source": []
  }
 ],
 "metadata": {
  "kernelspec": {
   "display_name": "Ruby 2.3.1",
   "language": "ruby",
   "name": "ruby"
  },
  "language_info": {
   "file_extension": ".rb",
   "mimetype": "application/x-ruby",
   "name": "ruby",
   "version": "2.3.1"
  }
 },
 "nbformat": 4,
 "nbformat_minor": 0
}
